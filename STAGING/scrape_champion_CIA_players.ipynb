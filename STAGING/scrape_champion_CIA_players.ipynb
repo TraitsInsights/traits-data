{
 "cells": [
  {
   "cell_type": "code",
   "execution_count": 2,
   "id": "4865c384-a7f6-4835-92f3-d6b0457ecf66",
   "metadata": {},
   "outputs": [],
   "source": [
    "# Import necessary libraries\n",
    "import requests\n",
    "from bs4 import BeautifulSoup\n",
    "import pandas as pd\n",
    "import os\n",
    "from dotenv import load_dotenv\n",
    "import time\n",
    "from tqdm.notebook import tqdm\n",
    "import random\n",
    "from io import StringIO\n",
    "\n",
    "# Define environment variables for username and password\n",
    "load_dotenv()\n",
    "username = os.getenv('CHAMPIONDATA_USERNAME')\n",
    "password = os.getenv('CHAMPIONDATA_PASSWORD')\n",
    "JSESSIONID = 'node0q9bpwcnsm724lhmnjb3wwcq933470.node0'\n",
    "SESSION_ID = 'CIA_1726697120856' # set manually for now"
   ]
  },
  {
   "cell_type": "code",
   "execution_count": 3,
   "id": "640fa6e5-ac1b-46be-a2fb-3f693ef5d004",
   "metadata": {},
   "outputs": [],
   "source": [
    "# Function to login and retrieve session cookies\n",
    "# TODO: login headless, fetch jsessionid, session_id\n",
    "def login_and_get_session(session_id=SESSION_ID, jsession_id=JSESSIONID, login_url=\"https://recruit.championdata.com/login.jsp\"):\n",
    "    session = requests.Session()\n",
    "\n",
    "    # Get login page to retrieve necessary hidden form fields (if any)\n",
    "    # login_page = session.get(login_url)\n",
    "    # soup = BeautifulSoup(login_page.text, 'html.parser')\n",
    "\n",
    "    # Prepare login data (add additional hidden fields if necessary)\n",
    "#     login_data = {\n",
    "#         'username': username,\n",
    "#         'password': password\n",
    "#     }\n",
    "    \n",
    "#     response = session.post(login_url, data=login_data)\n",
    "    \n",
    "    #if response.status_code == 200 and \"Welcome\" in response.text:\n",
    "    # Print the cookies attached to the session\n",
    "    print(\"Cookies after login:\")\n",
    "    for cookie in session.cookies:\n",
    "        print(f\"{cookie.name}: {cookie.value}\")\n",
    "\n",
    "    # Capture session_id if present\n",
    "    # session_id = session.cookies.get('session_id')\n",
    "\n",
    "    # Manually add the session_id if it is not present\n",
    "    if not any(cookie.name == 'session_id' for cookie in session.cookies):\n",
    "        session.cookies.set('session_id', session_id)  # Replace with the actual session_id value from your browser\n",
    "\n",
    "    if not any(cookie.name == 'session_id' for cookie in session.cookies):\n",
    "        session.cookies.set('JSESSIONID', jsession_id)\n",
    "\n",
    "    return session\n",
    "    #else:\n",
    "    #    raise Exception(\"Login failed\")\n",
    "\n",
    "# TODO: centralise somewhere\n",
    "competitions_dict = {\n",
    "    1: {\"Name\":\"AFL\",\"Start\":2011},\n",
    "    264: {\"Name\":\"AFL Women's\",\"Start\":2017},\n",
    "    414: {\"Name\":\"AFLW U18CH\",\"Start\":2017},\n",
    "    264: {\"Name\":\"AFLW Academy\",\"Start\":2022},\n",
    "    724 : {\"Name\":\"AFLW U17CH\",\"Start\":2021},\n",
    "    # 394 : {\"Name\":\"AFL U18 Academy\",\"Start\":2017},\n",
    "    3 : {\"Name\":\"AFL AIS Academy\",\"Start\":2014},\n",
    "    # 136 : {\"Name\":\"NEAFL\",\"Start\":2014},\n",
    "    16: {\"Name\":\"SANFL League\",\"Start\":2014},\n",
    "    133: {\"Name\":\"SANFL U18\",\"Start\":2014},\n",
    "    123: {\"Name\":\"SANFL Reserve\",\"Start\":2014},\n",
    "    144: {\"Name\":\"SANFL U16\",\"Start\":2014},\n",
    "    364: {\"Name\":\"SANFL Women's\",\"Start\":2016},\n",
    "    127: {\"Name\":\"School Boys\",\"Start\":2014},\n",
    "    143: {\"Name\":\"STATE\",\"Start\":2014},\n",
    "    11: {\"Name\":\"NAB League\",\"Start\":2014},\n",
    "    574: {\"Name\":\"NAB League Girls\",\"Start\":2019},\n",
    "    126: {\"Name\":\"TRIAL\",\"Start\":2019},\n",
    "    #135: {\"Name\":\"TSL\",\"Start\":2011},\n",
    "    12: {\"Name\":\"U16 Championships\",\"Start\":2014},\n",
    "    # 315: {\"Name\":\"U17 Championships\",\"Start\":2016},\n",
    "    19: {\"Name\":\"U18 Championships\",\"Start\":2014},\n",
    "    15:{\"Name\":\"VFL\",\"Start\":2014},\n",
    "    464:{\"Name\":\"VFLW\",\"Start\":2018},\n",
    "    120:{\"Name\":\"WAFL League\",\"Start\":2014},\n",
    "    122:{\"Name\":\"WAFL Colts\",\"Start\":2014},\n",
    "    121:{\"Name\":\"WAFL Reserve\",\"Start\":2014},\n",
    "    764:{\"Name\":\"WAFL Womens\",\"Start\":2022},\n",
    "    # 484: {\"Name\":\"Women's Trial Matches\",\"Start\":2022}\n",
    "}\n",
    "\n",
    "dimensional_custom_selections =(\"MBM_D50_BOUNDARY!-!MBM_D50_BOUNDARY_PCT!-!MBM_D50_CORRIDOR!-!MBM_D50_CORRIDOR_PCT\"\n",
    "\"!-!D50_REB_IN50!-!D50_REB_IN50_PCT!-!LONG_DOWN_LINE_KICK!-!LONG_DOWN_LINE_LOSE!-!LONG_DOWN_LINE_LOSE_PCT!-!\"\n",
    "\"LONG_DOWN_LINE_OPP!-!LONG_DOWN_LINE_PCT!-!LONG_DOWN_LINE_RET!-!LONG_DOWN_LINE_RET_PCT!-!LONG_DOWN_LINE_SCORE!-!\"\n",
    "\"LONG_DOWN_LINE_SCORE_PCT!-!LONG_DOWN_LINE_STOP!-!LONG_DOWN_LINE_STOP_PCT!-!MID_BALL_MOVE_BOUND!-!MID_BALL_MOVE_BOUND_PCT!-!\"\n",
    "\"MID_BALL_MOVE_CORRIDOR!-!MID_BALL_MOVE_CORRIDOR_PCT!-!MBM_D50!-!MID_BALL_MOVE_WING!-!MID_BALL_MOVE_WING_PCT!-!\"\n",
    "\"MBM_D50_WING!-!MBM_D50_WING_PCT!-!*DISPOSAL!-!DISPOSAL_EFFICIENCY!-!EFFECTIVE_DISPOSAL!-!EFFECTIVE_HANDBALL!-!\"\n",
    "\"EFFECTIVE_KICK!-!HANDBALL!-!HANDBALL_EFFICIENCY!-!KICK!-!KICK_TO_HANDBALL_RATIO!-!KICK_EFFICIENCY!-!*\"\n",
    "\"DISPOSAL_POST!-!DISPOSAL_PRE!-!KICK_FWD_PCT!-!KICK_FWD_GEN_PCT!-!KICK_FWD_SET_PCT!-!KICK_LONG_GEN_PCT!-!*\"\n",
    "\"KICK_LONG_SET_PCT!-!LONG_KICK_FROM_POSS_PCT!-!*50M_PENALTY!-!FREE_AGAINST!-!FREE_AGAINST_GENERAL!-!FREE_AGAINST_MARKING\"\n",
    "\"!-!FREE_AGAINST_RUCK!-!FREE_AGAINST_TACKLING!-!FREE_FOR!-!FREE_FOR_POST!-!FREE_FOR_PRE!-!M50M_PENALTY_AGAINST!-!*\"\n",
    "\"CLANGER_KICK!-!SHORT_KICK!-!LONG_KICK!-!GROUND_KICK!-!INEFFECTIVE_KICK!-!KICK_BACKWARDS!-!LONG_EFF_KICK_FROM_POSS!-!\"\n",
    "\"LONG_KICK_FROM_POSS!-!LONG_KICK_FROM_POS_EFF_PCT!-!OUT_ON_FULL!-!SHORT_EFF_KICK_FROM_POSS!-!SHORT_KICK_FROM_POSS!-!\"\n",
    "\"SHRT_KICK_FROM_POS_EFF_PCT!-!SHORT_KICK_FROM_POSS_PCT!-!*KI_IN50_LAUNCH!-!KICK_IN!-!KICK_IN_CORRIDOR!-!KICK_IN_CORRIDOR_PCT!-!\"\n",
    "\"KICK_IN_EFFECTIVE!-!KICK_IN_EFFECTIVE_PCT!-!KICK_IN_LEFT!-!KICK_IN_LEFT_PCT!-!KICK_IN_RIGHT!-!KICK_IN_RIGHT_PCT!-!\"\n",
    "\"KICK_IN_SELF!-!KICK_IN_SELF_PCT!-!KI_PROG_MID!-!KI_RES_CP_LOSE!-!KI_RES_CP_LOSE_PCT!-!KI_RES_CP_RET!-!KI_RES_CP_RET_PCT!-!\"\n",
    "\"KI_RES_LOSE!-!KI_RES_LOSE_PCT!-!KI_RES_OPP_SCORE!-!KI_RES_RET!-!KI_RES_RET_PCT!-!KI_RES_SCORE!-!KI_RES_STOP!-!\"\n",
    "\"KI_RES_STOP_PCT!-!KI_RES_UP_LOSE!-!KI_RES_UP_LOSE_PCT!-!KI_RES_UP_RET!-!KI_RES_UP_RET_PCT!-!KI_SCORE_LAUNCH!-!*\"\n",
    "\"CONTESTED_MARK_FROM_OPP!-!CONTESTED_MARK_FROM_TEAM!-!MARK!-!MARK_DROPPED!-!MARK_FROM_OPP_KICK!-!MARK_FUMBLED!-!\"\n",
    "\"MARK_ON_LEAD!-!MARK_PLAY_ON!-!MARK_PLAY_ON_PCT!-!UNCONTESTED_MARK_FROM_OPP!-!UNCONTESTED_MARK_FROM_TEAM!-!*\"\n",
    "\"HANDBALL_GAIN_METRES!-!HB_GAIN_METRES_PER_HB!-!KICK_GAIN_METRES!-!KICK_GAIN_METRES_PER_KICK!-!TOTAL_GAINED_METRES!-!\"\n",
    "\"TOTAL_GAIN_METRES_PER_DISP!-!*CHAIN_METRES!-!CHAIN_METRES_BU!-!CHAIN_METRES_CB!-!CHAIN_METRES_KI!-!CHAIN_METRES_NET!-!\"\n",
    "\"CHAIN_METRES_NET_BU!-!CHAIN_METRES_NET_CB!-!CHAIN_METRES_NET_KI!-!CHAIN_METRES_NET_PG!-!CHAIN_METRES_NET_ST!-!\"\n",
    "\"CHAIN_METRES_NET_TI!-!CHAIN_METRES_PG!-!CHAIN_METRES_ST!-!CHAIN_METRES_TI!-!METRES_GAINED_ASSISTED!-!METRES_GAINED_EFF!-!\"\n",
    "\"METRES_GAINED_NET!-!METRES_GAINED_RETAINED!-!*CONTEST_DEF_LOSE!-!CONTEST_DEF_LOSE_PCT!-!CONTEST_DEF_MARK_LOSE!-!\"\n",
    "\"CONTEST_DEF_MARK_LOSE_PCT!-!CONTEST_DEF_MARK_WIN!-!CONTEST_DEF_MARK_WIN_PCT!-!CONTEST_DEF_NEUTRAL!-!\"\n",
    "\"CONTEST_DEF_NEUTRAL_PCT!-!CONTEST_DEF_ONE_ON_ONE!-!CONTEST_DEF_WIN!-!CONTEST_DEF_WIN_PCT!-!CONTEST_TARG_LOSE!-!\"\n",
    "\"CONTEST_TARG_LOSE_PCT!-!CONTEST_TARG_MARK_LOSE!-!CONTEST_TARG_MARK_LOSE_PCT!-!CONTEST_TARG_MARK_WIN!-!\"\n",
    "\"CONTEST_TARG_MARK_WIN_PCT!-!CONTEST_TARG_NEUTRAL!-!CONTEST_TARG_NEUTRAL_PCT!-!CONTEST_TARG_ONE_ON_ONE!-!\"\n",
    "\"CONTEST_TARG_WIN!-!CONTEST_TARG_WIN_PCT!-!CONTEST_DEFENDER!-!CONTEST_TARGET!-!*BAULK!-!BAULKED!-!BLOCK!-!BROKEN_TACKLE\"\n",
    "\"!-!KNOCK_ON!-!MISSED_TACKLE!-!RUNDOWN_TACKLE!-!RUNNING_BOUNCE!-!SMOTHER!-!SPOIL!-!SPOIL_EFFICIENCY!-!\"\n",
    "\"SPOIL_GAINING_POSSESSION!-!SPOIL_INEFFECTIVE!-!TACKLE!-!TACKLE_POST!-!TACKLE_PRE!-!*RATING!-!RATING_50M_PENALTY!-!\"\n",
    "\"RATING_BALL_USE!-!RATING_BALL_WINNING!-!RATING_DEBITS!-!RATING_DEFENCE!-!RATING_FIELD_KICKS!-!RATING_FREE_AGAINST!-!\"\n",
    "\"RATING_HANDBALL!-!RATING_HITOUTS!-!RATING_KICK_IN!-!RATING_NEGATIVES!-!RATING_POSS_INTERCEPT!-!RATING_POSS_MID_CHAIN!-!\"\n",
    "\"RATING_POSS_STOPPAGE!-!RATING_PRESSURE!-!RATING_SHOTS!-!RATING_SPOILS!-!*CONTESTED_KNOCK_ON!-!CONTESTED_MARK!-!\"\n",
    "\"CONTESTED_POSSESSION!-!CONTESTED_POSSESSION_POST!-!CONTESTED_POSSESSION_PRE!-!CON_POSSESSION_RATE!-!CRUMB!-!\"\n",
    "\"GATHER!-!GATHER_FROM_HITOUT!-!GROUND_BALL_GET!-!GROUND_BALL_GET_POST!-!GROUND_BALL_GET_PRE!-!RECEIVE_HANDBALL!-!\"\n",
    "\"HARD_BALL_GET!-!HARD_BALL_GET_POST!-!HARD_BALL_GET_PRE!-!LOOSE_BALL_GET!-!LOOSE_BALL_GET_POST!-!LOOSE_BALL_GET_PRE!-!\"\n",
    "\"RUCK_HARD_BALL_GET!-!UNCONTESTED_MARK!-!UNCONTESTED_POSSESSION!-!UNC_POSSESSION_RATE!-!*FREE_AGAINST_TACKLING!-!\"\n",
    "\"PLY_ATTEMPTED_TACKLE!-!PLY_PRES_IMP_CHASING!-!PLY_PRES_IMP_CLOSING!-!PLY_PRES_IMP_CORRALLING!-!PLY_INEFFECTIVE_TACKLE!-!\"\n",
    "\"PLAYER_PRESSURE_ACT!-!PLY_PRES_PHYSICAL!-!PLY_PRESS_PTS!-!PLY_TACKLE_EFFICIENCY!-!SQUAD_ATTEMPTED_TACKLE!-!SQUAD_IMP_CHASING!-!\"\n",
    "\"SQUAD_IMP_CLOSING!-!SQUAD_IMP_CORRALLING!-!SQUAD_INEFFECTIVE_TACKLE!-!SQUAD_PRESSURE_CHANCE!-!SQUAD_PRESSURE_FACTOR!-!\"\n",
    "\"SQUAD_PRESSURE_POINTS!-!SQUAD_TACKLE_EFFICIENCY!-!TURNOVER_FORCED!-!TURNOVER_FORCED_BEHI_RUSH!-!TURNOVER_FORCED_GOAL!-!\"\n",
    "\"TURNOVER_FORCED_PTS!-!TURNOVER_FORCED_SCORE_PCT!-!*DREAMTEAM_PTS!-!RANKING_PTS!-!*INT_CAP_TOTAL!-!INT_OFF_BLOOD!-!\"\n",
    "\"INT_OFF_CONCUSSION!-!INT_OFF_INJURED!-!INT_OFF_NORMAL!-!INT_OFF_OUT!-!INT_OFF_TOTAL!-!OFF_STINT_SECS!-!\"\n",
    "\"ON_STINT_SECS!-!PERIOD_LENGTH!-!SUB_OFF!-!SUB_ON!-!TIME_ON_GROUND_PCT!-!TOG_PLAYED_SECS!-!*BEHIND!-!BEHIND_ASSIST!-!\"\n",
    "\"CLUB_SCORE_INVOLVEMENT_PCT!-!EXPECTED_ACCURACY!-!EXPECTED_GOAL!-!EXPECTED_SCORE!-!EXPECTED_SCORE_DIFF!-!GOAL!-!\"\n",
    "\"GOAL_ASSIST!-!KI_SCORING_POINTS!-!MISSED_SHOT!-!SQUAD_POINTS!-!RUSHED_BEHIND!-!SCORE_ACCURACY_PCT!-!SCORE_ASSIST!-!\"\n",
    "\"SCORE_INVOLVEMENT!-!SCORE_INVOLVEMENT_PCT!-!SCORE_LAUNCH!-!SCOREBOARD_IMPACT!-!SCORING_SHOTS!-!SHOT_AT_GOAL!-!\"\n",
    "\"SHOT_AT_GOAL_PCT!-!ST_SCORING_POINTS!-!TO_SCORING_POINTS!-!*ADVANTAGE_RATE!-!BALL_UP!-!BALL_UP_CLEARANCE!-!\"\n",
    "\"BALL_UP_FIRST_POSSESSION!-!BALL_UP_HITOUT!-!BALL_UP_HITOUT_SHARKED!-!BU_HITOUT_TO_ADVANTAGE!-!BU_SCORE_LAUNCH!-!\"\n",
    "\"BALL_UP_VERSUS!-!CENTRE_BOUNCE!-!CB_ATTEND!-!CENTRE_BOUNCE_CLEARANCE!-!CB_FIRST_POSSESSION!-!CENTRE_BOUNCE_HITOUT!-!\"\n",
    "\"CB_HITOUT_SHARKED!-!CB_HITOUT_TO_ADVANTAGE!-!CENTRE_BOUNCE_MID!-!CB_SCORE_LAUNCH!-!CENTRE_BOUNCE_VERSUS!-!CLEARANCE!-!\"\n",
    "\"CLEARANCE_WIN_PCT!-!FIRST_POSSESSION!-!FP_CLEAR_PCT!-!FP_WIN_PCT!-!HIT_OUT_SHARKED!-!HIT_OUT_TO_ADVANTAGE!-!HITOUT!-!\"\n",
    "\"HITOUT_TO_ADV_WIN_PCT!-!HITOUT_WIN_PCT!-!HITOUT_WIN_PCT_PLY!-!RUCK_CONTEST!-!SEC_STOP!-!STOPPAGE!-!THROW_IN!-!\"\n",
    "\"THROW_IN_CLEARANCE!-!THROW_IN_FIRST_POSSESSION!-!THROW_IN_HITOUT!-!THROW_IN_HITOUT_SHARKED!-!TI_HITOUT_TO_ADVANTAGE!-!\"\n",
    "\"TI_SCORE_LAUNCH!-!THROW_IN_VERSUS!-!*BU_CHAIN_LAUNCH!-!BALL_UP_HITOUT_SHARK!-!CB_ABSENT_CLEAR_DIFF!-!CB_ABSENT_TEAM_CLR_WIN_PCT!-!\"\n",
    "\"CB_ABSENT!-!CB_ATTEND_CLEAR_DIFF!-!CB_ATTEND_TEAM_CLR_WIN_PCT!-!CB_BEHIND!-!CB_CHAIN_LAUNCH!-!CB_GOAL!-!\"\n",
    "\"CENTRE_BOUNCE_HITOUT_SHARK!-!CB_RUSHED_BEHIND!-!EFFECTIVE_CLEARANCE!-!EFF_CLR_PCT!-!EFF_CLR_SCORE_PCT!-!\"\n",
    "\"HIT_OUT_SHARK!-!HOLD!-!BU_IN50_LAUNCH!-!CB_IN50_LAUNCH!-!TI_IN50_LAUNCH!-!STOP_EXIT_H!-!STOP_EXIT_H_PCT!-!\"\n",
    "\"STOP_EXIT_K!-!STOP_EXIT_K_PCT!-!THIRD_MAN_UP!-!TI_CHAIN_LAUNCH!-!THROW_IN_HITOUT_SHARK!-!TIME_IN_POSS_DIFF!-!\"\n",
    "\"TIME_IN_POSS_DIFF_PCT!-!TIME_IN_POSS_DISPUTE!-!TIME_IN_POSS_DISPUTE_PCT!-!TIME_IN_POSS_OPP_SQUAD_PCT!-!\"\n",
    "\"TIME_IN_POSS_OPP_SQUAD!-!TIME_IN_POSS_SQUAD!-!TIME_IN_POSS_SQUAD_PCT!-!TIME_IN_ZONE_PCT!-!TIME_IN_ZONE_SECS!-!\"\n",
    "\"*DISPOSALS_PER_TURNOVER!-!INTERCEPT!-!TURNOVER!-!*PG_IN50_LAUNCH!-!INTERCEPT_BEHI_LAUNCH!-!INTERCEPT_GOAL_LAUNCH!-!\"\n",
    "\"TURNOVER_FORCED_GIVEAWAY!-!TURNOVER_GIVEAWAY!-!TURNOVER_UNFORCED_GIVEAWAY!-!*D50_REBOUND!-!INSIDE_50!-!IN50_KICK!-!\"\n",
    "\"IN50_KICK_MARK!-!IN50_KICK_MARK_PCT!-!IN50_KICK_RETAIN!-!IN50_KICK_RETAIN_PCT!-!REBOUND_50!-!RE50_RESULT_OPP_CP_PCT!-!\"\n",
    "\"RE50_RESULT_OPP_UP_PCT!-!RE50_RESULT_OPP_CP!-!RE50_RESULT_OPP_UP!-!RE50_RESULT_OTHER!-!RE50_RESULT_OTHER_PCT!-!\"\n",
    "\"RE50_RESULT_RUN!-!RE50_RESULT_RUN_PCT!-!RE50_RESULT_STOPPAGE!-!RE50_RESULT_STOPPAGE_PCT!-!RE50_RESULT_TEAM_CP!-!\"\n",
    "\"RE50_RESULT_TEAM_CP_PCT!-!RE50_RESULT_TEAM_UP_PCT!-!RE50_RESULT_TEAM_UP!-!SQUAD_GOALW_PER_IN50!-!SQUAD_SCORE_PER_IN50!-!\"\n",
    "\"*CHAIN_LAUNCH!-!IN50_FORCED!-!IN50_FORCED_RETURN!-!IN50_INIT!-!IN50_INIT_DIR!-!IN50_INIT_DIR_RETURN!-!\"\n",
    "\"IN50_INIT_RETURN!-!IN50_KICK_BOMB!-!IN50_KICK_GOTO!-!IN50_LAUNCH!-!IN50_LAUNCH_PCT!-!IN50_MID_STOP!-!\"\n",
    "\"IN50_MID_STOP_DIR!-!IN50_MID_STOP_DIR_RETURN!-!IN50_MID_STOP_RETURN!-!IN50_RPT!-!IN50_RPT_DIR!-!\"\n",
    "\"IN50_RPT_DIR_RETURN!-!IN50_RPT_RETURN!-!IN50_TRANS_DIR!-!IN50_TRANS_DIR_RETURN!-!IN50_TRANS_RETURN!-!\"\n",
    "\"IN50_TARGET!-!IN50_TARGET_CHANCE!-!IN50_TARGET_CHANCE_PCT!-!IN50_TARGET_DISTANCE!-!IN50_TARGET_PLAY_GOAL!-!\"\n",
    "\"IN50_TARGET_PLAY_GOAL_PCT!-!IN50_TARGET_PLAY_RET_PCT!-!IN50_TARGET_PLAY_RET!-!IN50_TARGET_PLAY_SCORE!-!\"\n",
    "\"IN50_TARGET_PLAY_SCORE_PCT!-!IN50_TARGET_TEAM_GOAL!-!IN50_TARGET_TEAM_GOAL_PCT!-!IN50_TARGET_TEAM_RET_PCT!-!\"\n",
    "\"IN50_TARGET_TEAM_RET!-!IN50_TARGET_TEAM_SCORE!-!IN50_TARGET_TEAM_SCORE_PCT!-!IN50_TRANS\")\n",
    "\n",
    "# Function to fetch data with given parameters\n",
    "def fetch_data(session, competition_id, season_id, stat_selection, rd=\"\", base_url=\"https://recruit.championdata.com/report.jsp\"):\n",
    "    params = {\n",
    "        'tab_id': 'ui-tabs-1',\n",
    "        'contains_top8_opp_squad_id': 'true',\n",
    "        'minGames': 'Min Rnds',\n",
    "        'customLevel': '25',\n",
    "        'level':'99999',\n",
    "        'contains_all_sep': 'true',\n",
    "        'msort_way': 'asc',\n",
    "        'sort_way': 'asc',\n",
    "        'requestMade': '1',\n",
    "        'page_id': '98',\n",
    "        'statSelection': '!-!'.join(stat_selection),\n",
    "        'groupSelection': 'GROUP_ROUND_NO!--!SQUAD_ID', #'OPP_SQUAD_ID!--!, !--!PERIOD!, !--!ZONE_LOGICAL_SM\n",
    "        'competition_level_id': competition_id,\n",
    "        'competition_group_id': '1',\n",
    "        'season_id': season_id,\n",
    "        'round_no': rd,\n",
    "        'minGames':'Min Rnds',\n",
    "        'total_average': 'T',\n",
    "        'show': 'for',\n",
    "        'msort': '1',\n",
    "        'isSplitMidfield': 'true',\n",
    "        'ignore_club': '1',\n",
    "        'isFeeder': 'true'\n",
    "    }\n",
    "\n",
    "    if competition_id == 1:\n",
    "        del params['competition_level_id']\n",
    "        params['isFeeder'] = 'false'\n",
    "        base_url = \"https://cia.championdata.com/report.jsp\"\n",
    "    \n",
    "    # random sleep\n",
    "    time.sleep(random.uniform(0.5, 4.5))\n",
    "    \n",
    "    response = session.get(base_url, params=params)\n",
    "    \n",
    "    if response.status_code == 200:\n",
    "        return response.text\n",
    "    else:\n",
    "        return None\n",
    "\n",
    "def parse_data(html_data):\n",
    "\n",
    "    df = pd.read_html(io=StringIO(html_data), match='Dimensions', attrs={'class': 'mbl mbr mbt'}, header=1)[0]\n",
    "    \n",
    "    return df"
   ]
  },
  {
   "cell_type": "code",
   "execution_count": 4,
   "id": "9ab5eada-36c8-4e4c-9a1f-9c52527ca016",
   "metadata": {},
   "outputs": [],
   "source": [
    "# Parameters to parse\n",
    "competition_ids = list(competitions_dict.keys())\n",
    "season_ids = [\"2011\",\"2012\",\"2013\",\"2014\",\"2015\",\"2016\",\"2017\",\"2018\",\"2019\",\"2020\",\"2021\",\"2022\",\"2022B\",\"2023\",\"2024\"] \n",
    "all_stats = [list(filter(None, sublist.split(\"!-!\"))) for sublist in dimensional_custom_selections.split(\"*\")]\n",
    "no_derivations = [[s for s in sublist if not any(substring in s for substring in [\"PCT\", \"EFFICIENCY\", \"RATIO\", \"RATE\"])] for sublist in all_stats]\n",
    "rounds_batches = ['1-25'] #['1-5','6-10','11-15','16-20','20-25']"
   ]
  },
  {
   "cell_type": "code",
   "execution_count": 5,
   "id": "1ae25211-ad21-4e6d-bb19-bc14394f6102",
   "metadata": {
    "scrolled": true
   },
   "outputs": [
    {
     "name": "stdout",
     "output_type": "stream",
     "text": [
      "Cookies after login:\n"
     ]
    }
   ],
   "source": [
    "# e.g.\n",
    "\n",
    "session = login_and_get_session()\n",
    "competition_id = 1 #11\n",
    "competition_name = \"AFL\" #\"NAB League\"\n",
    "season_id = 2023\n",
    "rounds = '1-25'\n",
    "stat_batch = ['DISPOSAL',\n",
    " 'EFFECTIVE_DISPOSAL',\n",
    " 'EFFECTIVE_HANDBALL',\n",
    " 'EFFECTIVE_KICK',\n",
    " 'HANDBALL']\n",
    "\n",
    "html_data = fetch_data(session, competition_id, season_id, stat_batch, rd=rounds)\n",
    "df = parse_data(html_data)\n",
    "\n",
    "df.columns = ['#', 'Player', 'Position', 'S', 'Mt', 'R'] + stat_batch\n",
    "df['season_id'] = season_id\n",
    "df['competition_id'] = competition_id\n",
    "df['competition_name'] = competition_name\n",
    "\n",
    "filename = f'./player_match_data/players_{competition_name}_{season_id}_{rounds}'\n",
    "df.set_index(['Player', 'Position', 'S', 'Mt', 'R', 'season_id', 'competition_id']).to_csv(f\"{filename}.csv\")"
   ]
  },
  {
   "cell_type": "code",
   "execution_count": 9,
   "id": "19f771b8-b200-4be0-8a6c-fa5cf20683b0",
   "metadata": {
    "scrolled": true,
    "tags": []
   },
   "outputs": [
    {
     "name": "stdout",
     "output_type": "stream",
     "text": [
      "Cookies after login:\n",
      "Parsing AFL, 2023\n"
     ]
    },
    {
     "data": {
      "application/vnd.jupyter.widget-view+json": {
       "model_id": "",
       "version_major": 2,
       "version_minor": 0
      },
      "text/plain": [
       "Stat menu:   0%|          | 0/24 [00:00<?, ?it/s]"
      ]
     },
     "metadata": {},
     "output_type": "display_data"
    },
    {
     "data": {
      "application/vnd.jupyter.widget-view+json": {
       "model_id": "",
       "version_major": 2,
       "version_minor": 0
      },
      "text/plain": [
       "Stat batch:   0%|          | 0/3 [00:00<?, ?it/s]"
      ]
     },
     "metadata": {},
     "output_type": "display_data"
    },
    {
     "data": {
      "application/vnd.jupyter.widget-view+json": {
       "model_id": "",
       "version_major": 2,
       "version_minor": 0
      },
      "text/plain": [
       "Stat batch:   0%|          | 0/2 [00:00<?, ?it/s]"
      ]
     },
     "metadata": {},
     "output_type": "display_data"
    },
    {
     "data": {
      "application/vnd.jupyter.widget-view+json": {
       "model_id": "",
       "version_major": 2,
       "version_minor": 0
      },
      "text/plain": [
       "Stat batch:   0%|          | 0/1 [00:00<?, ?it/s]"
      ]
     },
     "metadata": {},
     "output_type": "display_data"
    },
    {
     "data": {
      "application/vnd.jupyter.widget-view+json": {
       "model_id": "",
       "version_major": 2,
       "version_minor": 0
      },
      "text/plain": [
       "Stat batch: 0it [00:00, ?it/s]"
      ]
     },
     "metadata": {},
     "output_type": "display_data"
    },
    {
     "data": {
      "application/vnd.jupyter.widget-view+json": {
       "model_id": "",
       "version_major": 2,
       "version_minor": 0
      },
      "text/plain": [
       "Stat batch:   0%|          | 0/2 [00:00<?, ?it/s]"
      ]
     },
     "metadata": {},
     "output_type": "display_data"
    },
    {
     "data": {
      "application/vnd.jupyter.widget-view+json": {
       "model_id": "",
       "version_major": 2,
       "version_minor": 0
      },
      "text/plain": [
       "Stat batch:   0%|          | 0/3 [00:00<?, ?it/s]"
      ]
     },
     "metadata": {},
     "output_type": "display_data"
    },
    {
     "data": {
      "application/vnd.jupyter.widget-view+json": {
       "model_id": "",
       "version_major": 2,
       "version_minor": 0
      },
      "text/plain": [
       "Stat batch:   0%|          | 0/4 [00:00<?, ?it/s]"
      ]
     },
     "metadata": {},
     "output_type": "display_data"
    },
    {
     "data": {
      "application/vnd.jupyter.widget-view+json": {
       "model_id": "",
       "version_major": 2,
       "version_minor": 0
      },
      "text/plain": [
       "Stat batch:   0%|          | 0/2 [00:00<?, ?it/s]"
      ]
     },
     "metadata": {},
     "output_type": "display_data"
    },
    {
     "data": {
      "application/vnd.jupyter.widget-view+json": {
       "model_id": "",
       "version_major": 2,
       "version_minor": 0
      },
      "text/plain": [
       "Stat batch:   0%|          | 0/2 [00:00<?, ?it/s]"
      ]
     },
     "metadata": {},
     "output_type": "display_data"
    },
    {
     "data": {
      "application/vnd.jupyter.widget-view+json": {
       "model_id": "",
       "version_major": 2,
       "version_minor": 0
      },
      "text/plain": [
       "Stat batch:   0%|          | 0/4 [00:00<?, ?it/s]"
      ]
     },
     "metadata": {},
     "output_type": "display_data"
    },
    {
     "data": {
      "application/vnd.jupyter.widget-view+json": {
       "model_id": "",
       "version_major": 2,
       "version_minor": 0
      },
      "text/plain": [
       "Stat batch:   0%|          | 0/3 [00:00<?, ?it/s]"
      ]
     },
     "metadata": {},
     "output_type": "display_data"
    },
    {
     "data": {
      "application/vnd.jupyter.widget-view+json": {
       "model_id": "",
       "version_major": 2,
       "version_minor": 0
      },
      "text/plain": [
       "Stat batch:   0%|          | 0/3 [00:00<?, ?it/s]"
      ]
     },
     "metadata": {},
     "output_type": "display_data"
    },
    {
     "data": {
      "application/vnd.jupyter.widget-view+json": {
       "model_id": "",
       "version_major": 2,
       "version_minor": 0
      },
      "text/plain": [
       "Stat batch:   0%|          | 0/4 [00:00<?, ?it/s]"
      ]
     },
     "metadata": {},
     "output_type": "display_data"
    },
    {
     "data": {
      "application/vnd.jupyter.widget-view+json": {
       "model_id": "",
       "version_major": 2,
       "version_minor": 0
      },
      "text/plain": [
       "Stat batch:   0%|          | 0/5 [00:00<?, ?it/s]"
      ]
     },
     "metadata": {},
     "output_type": "display_data"
    },
    {
     "data": {
      "application/vnd.jupyter.widget-view+json": {
       "model_id": "",
       "version_major": 2,
       "version_minor": 0
      },
      "text/plain": [
       "Stat batch:   0%|          | 0/5 [00:00<?, ?it/s]"
      ]
     },
     "metadata": {},
     "output_type": "display_data"
    },
    {
     "data": {
      "application/vnd.jupyter.widget-view+json": {
       "model_id": "",
       "version_major": 2,
       "version_minor": 0
      },
      "text/plain": [
       "Stat batch:   0%|          | 0/1 [00:00<?, ?it/s]"
      ]
     },
     "metadata": {},
     "output_type": "display_data"
    },
    {
     "data": {
      "application/vnd.jupyter.widget-view+json": {
       "model_id": "",
       "version_major": 2,
       "version_minor": 0
      },
      "text/plain": [
       "Stat batch:   0%|          | 0/3 [00:00<?, ?it/s]"
      ]
     },
     "metadata": {},
     "output_type": "display_data"
    },
    {
     "data": {
      "application/vnd.jupyter.widget-view+json": {
       "model_id": "",
       "version_major": 2,
       "version_minor": 0
      },
      "text/plain": [
       "Stat batch:   0%|          | 0/4 [00:00<?, ?it/s]"
      ]
     },
     "metadata": {},
     "output_type": "display_data"
    },
    {
     "data": {
      "application/vnd.jupyter.widget-view+json": {
       "model_id": "",
       "version_major": 2,
       "version_minor": 0
      },
      "text/plain": [
       "Stat batch:   0%|          | 0/7 [00:00<?, ?it/s]"
      ]
     },
     "metadata": {},
     "output_type": "display_data"
    },
    {
     "data": {
      "application/vnd.jupyter.widget-view+json": {
       "model_id": "",
       "version_major": 2,
       "version_minor": 0
      },
      "text/plain": [
       "Stat batch:   0%|          | 0/6 [00:00<?, ?it/s]"
      ]
     },
     "metadata": {},
     "output_type": "display_data"
    },
    {
     "data": {
      "application/vnd.jupyter.widget-view+json": {
       "model_id": "",
       "version_major": 2,
       "version_minor": 0
      },
      "text/plain": [
       "Stat batch:   0%|          | 0/1 [00:00<?, ?it/s]"
      ]
     },
     "metadata": {},
     "output_type": "display_data"
    },
    {
     "data": {
      "application/vnd.jupyter.widget-view+json": {
       "model_id": "",
       "version_major": 2,
       "version_minor": 0
      },
      "text/plain": [
       "Stat batch:   0%|          | 0/2 [00:00<?, ?it/s]"
      ]
     },
     "metadata": {},
     "output_type": "display_data"
    },
    {
     "data": {
      "application/vnd.jupyter.widget-view+json": {
       "model_id": "",
       "version_major": 2,
       "version_minor": 0
      },
      "text/plain": [
       "Stat batch:   0%|          | 0/3 [00:00<?, ?it/s]"
      ]
     },
     "metadata": {},
     "output_type": "display_data"
    },
    {
     "data": {
      "application/vnd.jupyter.widget-view+json": {
       "model_id": "",
       "version_major": 2,
       "version_minor": 0
      },
      "text/plain": [
       "Stat batch:   0%|          | 0/7 [00:00<?, ?it/s]"
      ]
     },
     "metadata": {},
     "output_type": "display_data"
    },
    {
     "name": "stdout",
     "output_type": "stream",
     "text": [
      "Time taken for season 2023: 2273.469786643982 seconds\n",
      "Data scraped and saved to players_AFL_2023.csv\n",
      "Parsing AFL, 2024\n"
     ]
    },
    {
     "data": {
      "application/vnd.jupyter.widget-view+json": {
       "model_id": "",
       "version_major": 2,
       "version_minor": 0
      },
      "text/plain": [
       "Stat menu:   0%|          | 0/24 [00:00<?, ?it/s]"
      ]
     },
     "metadata": {},
     "output_type": "display_data"
    },
    {
     "data": {
      "application/vnd.jupyter.widget-view+json": {
       "model_id": "",
       "version_major": 2,
       "version_minor": 0
      },
      "text/plain": [
       "Stat batch:   0%|          | 0/3 [00:00<?, ?it/s]"
      ]
     },
     "metadata": {},
     "output_type": "display_data"
    },
    {
     "data": {
      "application/vnd.jupyter.widget-view+json": {
       "model_id": "",
       "version_major": 2,
       "version_minor": 0
      },
      "text/plain": [
       "Stat batch:   0%|          | 0/2 [00:00<?, ?it/s]"
      ]
     },
     "metadata": {},
     "output_type": "display_data"
    },
    {
     "data": {
      "application/vnd.jupyter.widget-view+json": {
       "model_id": "",
       "version_major": 2,
       "version_minor": 0
      },
      "text/plain": [
       "Stat batch:   0%|          | 0/1 [00:00<?, ?it/s]"
      ]
     },
     "metadata": {},
     "output_type": "display_data"
    },
    {
     "data": {
      "application/vnd.jupyter.widget-view+json": {
       "model_id": "",
       "version_major": 2,
       "version_minor": 0
      },
      "text/plain": [
       "Stat batch: 0it [00:00, ?it/s]"
      ]
     },
     "metadata": {},
     "output_type": "display_data"
    },
    {
     "data": {
      "application/vnd.jupyter.widget-view+json": {
       "model_id": "",
       "version_major": 2,
       "version_minor": 0
      },
      "text/plain": [
       "Stat batch:   0%|          | 0/2 [00:00<?, ?it/s]"
      ]
     },
     "metadata": {},
     "output_type": "display_data"
    },
    {
     "data": {
      "application/vnd.jupyter.widget-view+json": {
       "model_id": "",
       "version_major": 2,
       "version_minor": 0
      },
      "text/plain": [
       "Stat batch:   0%|          | 0/3 [00:00<?, ?it/s]"
      ]
     },
     "metadata": {},
     "output_type": "display_data"
    },
    {
     "data": {
      "application/vnd.jupyter.widget-view+json": {
       "model_id": "",
       "version_major": 2,
       "version_minor": 0
      },
      "text/plain": [
       "Stat batch:   0%|          | 0/4 [00:00<?, ?it/s]"
      ]
     },
     "metadata": {},
     "output_type": "display_data"
    },
    {
     "data": {
      "application/vnd.jupyter.widget-view+json": {
       "model_id": "",
       "version_major": 2,
       "version_minor": 0
      },
      "text/plain": [
       "Stat batch:   0%|          | 0/2 [00:00<?, ?it/s]"
      ]
     },
     "metadata": {},
     "output_type": "display_data"
    },
    {
     "data": {
      "application/vnd.jupyter.widget-view+json": {
       "model_id": "",
       "version_major": 2,
       "version_minor": 0
      },
      "text/plain": [
       "Stat batch:   0%|          | 0/2 [00:00<?, ?it/s]"
      ]
     },
     "metadata": {},
     "output_type": "display_data"
    },
    {
     "data": {
      "application/vnd.jupyter.widget-view+json": {
       "model_id": "",
       "version_major": 2,
       "version_minor": 0
      },
      "text/plain": [
       "Stat batch:   0%|          | 0/4 [00:00<?, ?it/s]"
      ]
     },
     "metadata": {},
     "output_type": "display_data"
    },
    {
     "data": {
      "application/vnd.jupyter.widget-view+json": {
       "model_id": "",
       "version_major": 2,
       "version_minor": 0
      },
      "text/plain": [
       "Stat batch:   0%|          | 0/3 [00:00<?, ?it/s]"
      ]
     },
     "metadata": {},
     "output_type": "display_data"
    },
    {
     "data": {
      "application/vnd.jupyter.widget-view+json": {
       "model_id": "",
       "version_major": 2,
       "version_minor": 0
      },
      "text/plain": [
       "Stat batch:   0%|          | 0/3 [00:00<?, ?it/s]"
      ]
     },
     "metadata": {},
     "output_type": "display_data"
    },
    {
     "data": {
      "application/vnd.jupyter.widget-view+json": {
       "model_id": "",
       "version_major": 2,
       "version_minor": 0
      },
      "text/plain": [
       "Stat batch:   0%|          | 0/4 [00:00<?, ?it/s]"
      ]
     },
     "metadata": {},
     "output_type": "display_data"
    },
    {
     "data": {
      "application/vnd.jupyter.widget-view+json": {
       "model_id": "",
       "version_major": 2,
       "version_minor": 0
      },
      "text/plain": [
       "Stat batch:   0%|          | 0/5 [00:00<?, ?it/s]"
      ]
     },
     "metadata": {},
     "output_type": "display_data"
    },
    {
     "data": {
      "application/vnd.jupyter.widget-view+json": {
       "model_id": "",
       "version_major": 2,
       "version_minor": 0
      },
      "text/plain": [
       "Stat batch:   0%|          | 0/5 [00:00<?, ?it/s]"
      ]
     },
     "metadata": {},
     "output_type": "display_data"
    },
    {
     "data": {
      "application/vnd.jupyter.widget-view+json": {
       "model_id": "",
       "version_major": 2,
       "version_minor": 0
      },
      "text/plain": [
       "Stat batch:   0%|          | 0/1 [00:00<?, ?it/s]"
      ]
     },
     "metadata": {},
     "output_type": "display_data"
    },
    {
     "data": {
      "application/vnd.jupyter.widget-view+json": {
       "model_id": "",
       "version_major": 2,
       "version_minor": 0
      },
      "text/plain": [
       "Stat batch:   0%|          | 0/3 [00:00<?, ?it/s]"
      ]
     },
     "metadata": {},
     "output_type": "display_data"
    },
    {
     "data": {
      "application/vnd.jupyter.widget-view+json": {
       "model_id": "",
       "version_major": 2,
       "version_minor": 0
      },
      "text/plain": [
       "Stat batch:   0%|          | 0/4 [00:00<?, ?it/s]"
      ]
     },
     "metadata": {},
     "output_type": "display_data"
    },
    {
     "data": {
      "application/vnd.jupyter.widget-view+json": {
       "model_id": "",
       "version_major": 2,
       "version_minor": 0
      },
      "text/plain": [
       "Stat batch:   0%|          | 0/7 [00:00<?, ?it/s]"
      ]
     },
     "metadata": {},
     "output_type": "display_data"
    },
    {
     "data": {
      "application/vnd.jupyter.widget-view+json": {
       "model_id": "",
       "version_major": 2,
       "version_minor": 0
      },
      "text/plain": [
       "Stat batch:   0%|          | 0/6 [00:00<?, ?it/s]"
      ]
     },
     "metadata": {},
     "output_type": "display_data"
    },
    {
     "data": {
      "application/vnd.jupyter.widget-view+json": {
       "model_id": "",
       "version_major": 2,
       "version_minor": 0
      },
      "text/plain": [
       "Stat batch:   0%|          | 0/1 [00:00<?, ?it/s]"
      ]
     },
     "metadata": {},
     "output_type": "display_data"
    },
    {
     "data": {
      "application/vnd.jupyter.widget-view+json": {
       "model_id": "",
       "version_major": 2,
       "version_minor": 0
      },
      "text/plain": [
       "Stat batch:   0%|          | 0/2 [00:00<?, ?it/s]"
      ]
     },
     "metadata": {},
     "output_type": "display_data"
    },
    {
     "data": {
      "application/vnd.jupyter.widget-view+json": {
       "model_id": "",
       "version_major": 2,
       "version_minor": 0
      },
      "text/plain": [
       "Stat batch:   0%|          | 0/3 [00:00<?, ?it/s]"
      ]
     },
     "metadata": {},
     "output_type": "display_data"
    },
    {
     "data": {
      "application/vnd.jupyter.widget-view+json": {
       "model_id": "",
       "version_major": 2,
       "version_minor": 0
      },
      "text/plain": [
       "Stat batch:   0%|          | 0/7 [00:00<?, ?it/s]"
      ]
     },
     "metadata": {},
     "output_type": "display_data"
    },
    {
     "name": "stdout",
     "output_type": "stream",
     "text": [
      "Time taken for season 2024: 2250.158361196518 seconds\n",
      "Data scraped and saved to players_AFL_2024.csv\n"
     ]
    }
   ],
   "source": [
    "# MAIN LOOP\n",
    "\n",
    "session = login_and_get_session()\n",
    "\n",
    "# random.shuffle(competition_ids)\n",
    "\n",
    "for competition_id in competition_ids[1:]:\n",
    "    \n",
    "    competition_name = competitions_dict[competition_id]['Name']\n",
    "    \n",
    "    for season_id in season_ids[-3:]:\n",
    "\n",
    "        season_data = []\n",
    "        start = time.time()\n",
    "        \n",
    "        if (season_id == \"2022B\" and competition_id == 264) or (season_id.isdigit() and int(season_id) >= competitions_dict[competition_id]['Start']):\n",
    "        \n",
    "            start = time.time()\n",
    "\n",
    "            print(f\"Parsing {competition_name}, {season_id}\")\n",
    "            \n",
    "            #for rounds in tqdm(rounds_batches, desc='Rounds'):\n",
    "            for submenu in tqdm(no_derivations,leave=False, desc='Stat menu'):\n",
    "                for i in tqdm(list(range(0, len(submenu), 5)),leave=False, desc='Stat batch'):\n",
    "                    stat_batch = submenu[i:i+5]\n",
    "                    html_data = fetch_data(session, competition_id, season_id, stat_batch)\n",
    "\n",
    "                    if html_data:\n",
    "                        try:\n",
    "                            df = parse_data(html_data)\n",
    "                            df['season_id'] = season_id\n",
    "                            df['competition_id'] = competition_id\n",
    "                            df['competition_name'] = competition_name\n",
    "                            season_data.append(df)\n",
    "                        except:\n",
    "                            print(f\"Failed to parse season {season_id} for competition {competition_name}, stats: {stat_batch}\")\n",
    "            \n",
    "        else:\n",
    "            continue\n",
    "\n",
    "        print(f\"Time taken for season {season_id}: {time.time() - start} seconds\")\n",
    "        \n",
    "        # Concatenate all dataframes\n",
    "        season_df = pd.concat([df.set_index(['#', 'Mt', 'Player', 'Position', 'S', 'R', 'season_id', 'competition_id', 'competition_name']) for df in season_data], axis=1)\n",
    "            \n",
    "        # Save to CSV\n",
    "        filename = f'players_{competition_name}_{season_id}'\n",
    "        season_df.to_csv(f'./scraped_data/{filename}.csv', index=True)\n",
    "        print(f\"Data scraped and saved to {filename}.csv\")"
   ]
  },
  {
   "cell_type": "code",
   "execution_count": 116,
   "id": "836b2f8c-6507-439a-bf4a-13b1984c91da",
   "metadata": {},
   "outputs": [],
   "source": [
    "# THINGS TO TRY:\n",
    "# DONE 1. Batch stats to max 5 per query MANY SMALL VS FEW LARGE (~ 10 mins per season)\n",
    "# DONE 2. Get rid of pct and ratios, especially those that can be recreated from game totals\n",
    "# 3. Consider including QbQ, Zonal granularity (esp to teams level). If these reports are too tall, these can be split as seperate calls by using the filters.\n",
    "# DONE 4. parse round by round (less aggregation on their server required)\n",
    "# 5. TODO: Ensure all players data"
   ]
  },
  {
   "cell_type": "code",
   "execution_count": null,
   "id": "787a75bb-8649-4605-8e67-39c365139b0e",
   "metadata": {},
   "outputs": [],
   "source": [
    "# SAMPLE OUTPUT\n",
    "pd.set_option('display.max_rows', 500)\n",
    "pd.set_option('display.max_columns', 500)\n",
    "\n",
    "final_df.head(45)"
   ]
  },
  {
   "cell_type": "code",
   "execution_count": 66,
   "id": "c04db045-b05f-4518-842b-f7b2bff85354",
   "metadata": {
    "scrolled": true
   },
   "outputs": [
    {
     "data": {
      "text/plain": [
       "#              0.0\n",
       "BMBMfD         0.0\n",
       "BPfD %         0.0\n",
       "CMBMfD         0.0\n",
       "CPfD %         0.0\n",
       "D50R-I50       0.0\n",
       "#              0.0\n",
       "D50R-I50P %    0.0\n",
       "LDL-K          0.0\n",
       "LDL-L          0.0\n",
       "LDL-LP %       0.0\n",
       "LDL-O          0.0\n",
       "#              0.0\n",
       "LDL-P %        0.0\n",
       "LDL-R          0.0\n",
       "LDL-RP %       0.0\n",
       "LDL-S          0.0\n",
       "LDL-SP %       0.0\n",
       "#              0.0\n",
       "LDL-S          0.0\n",
       "LDL-SP %       0.0\n",
       "MBMB           0.0\n",
       "MBMBP %        0.0\n",
       "MBMC           0.0\n",
       "#              0.0\n",
       "MBMCP %        0.0\n",
       "MBMfD          0.0\n",
       "MBMW           0.0\n",
       "MBMWP %        0.0\n",
       "WMBMfD         0.0\n",
       "#              0.0\n",
       "WPfD %         0.0\n",
       "#              0.0\n",
       "D              0.0\n",
       "DE %           0.0\n",
       "ED             0.0\n",
       "EH             0.0\n",
       "EK             0.0\n",
       "#              0.0\n",
       "H              0.0\n",
       "HE %           0.0\n",
       "K              0.0\n",
       "KtHR           0.0\n",
       "KE %           0.0\n",
       "dtype: float64"
      ]
     },
     "execution_count": 66,
     "metadata": {},
     "output_type": "execute_result"
    }
   ],
   "source": [
    "# Count NAs\n",
    "\n",
    "def count_nas_percentage(df):\n",
    "    na_counts = df.isna().sum()\n",
    "    total_rows = len(df)\n",
    "    na_percentage = (na_counts / total_rows) * 100\n",
    "    return na_percentage\n",
    "\n",
    "count_nas_percentage(final_df)"
   ]
  },
  {
   "cell_type": "code",
   "execution_count": 80,
   "id": "263d646b-9b6c-4e7f-ad3c-ff9543dac3c4",
   "metadata": {
    "scrolled": true
   },
   "outputs": [
    {
     "data": {
      "text/plain": [
       "#             0.00\n",
       "BMBMfD      100.00\n",
       "CMBMfD      100.00\n",
       "D50R-I50      0.25\n",
       "LDL-K       100.00\n",
       "LDL-L       100.00\n",
       "#             0.00\n",
       "LDL-O       100.00\n",
       "LDL-R       100.00\n",
       "LDL-S       100.00\n",
       "LDL-S.1     100.00\n",
       "MBMB        100.00\n",
       "#             0.00\n",
       "MBMC        100.00\n",
       "MBMfD         0.00\n",
       "MBMW        100.00\n",
       "WMBMfD      100.00\n",
       "#             0.00\n",
       "D             0.00\n",
       "ED            0.00\n",
       "EH            0.00\n",
       "EK            0.00\n",
       "H             0.00\n",
       "#             0.00\n",
       "K             0.00\n",
       "#             0.00\n",
       "D-P           0.00\n",
       "D-P.1         0.00\n",
       "#             0.00\n",
       "5P           42.50\n",
       "FA            0.00\n",
       "FAG           0.00\n",
       "FAM           2.00\n",
       "FAR          24.25\n",
       "#             0.00\n",
       "FAT           0.00\n",
       "FF            0.00\n",
       "FF-P          0.00\n",
       "FF-P.1        1.00\n",
       "MPA          42.50\n",
       "#             0.00\n",
       "CK            0.00\n",
       "EKS           0.75\n",
       "ELK         100.00\n",
       "GK            5.25\n",
       "IK            0.00\n",
       "#             0.00\n",
       "KB            0.75\n",
       "LEKFP       100.00\n",
       "LKFP        100.00\n",
       "OOF           3.50\n",
       "SEKFP       100.00\n",
       "#             0.00\n",
       "SKFP        100.00\n",
       "#             0.00\n",
       "I50L-FK      12.75\n",
       "KI            0.00\n",
       "KI-C        100.00\n",
       "KI-E          0.00\n",
       "KI-L        100.00\n",
       "#             0.00\n",
       "KI-R        100.00\n",
       "KI-S          0.00\n",
       "KIP-M         0.00\n",
       "KIR-CPL      17.00\n",
       "KIR-CPR      17.25\n",
       "#             0.00\n",
       "KIR-L        11.75\n",
       "KIR-OS       20.00\n",
       "KIR-R         0.00\n",
       "KIR-S        42.00\n",
       "KIR-S.1      42.75\n",
       "#             0.00\n",
       "KIR-UPL      63.50\n",
       "KIR-UPR       1.25\n",
       "KISL         42.00\n",
       "#             0.00\n",
       "CMFO          2.75\n",
       "CMFT          0.75\n",
       "M             0.00\n",
       "MD          100.00\n",
       "MFOK          0.00\n",
       "#             0.00\n",
       "MF          100.00\n",
       "MOL           4.25\n",
       "MPO           0.00\n",
       "UMFO          0.00\n",
       "UMFT          0.00\n",
       "#             0.00\n",
       "HGM         100.00\n",
       "HGMPH %     100.00\n",
       "KGM         100.00\n",
       "KGMPK %     100.00\n",
       "MG          100.00\n",
       "#             0.00\n",
       "TGMPD %     100.00\n",
       "#             0.00\n",
       "CM          100.00\n",
       "CM-BU       100.00\n",
       "CM-CB       100.00\n",
       "CM-KI       100.00\n",
       "CM-N        100.00\n",
       "#             0.00\n",
       "CM-NB       100.00\n",
       "CM-NC       100.00\n",
       "CM-NK       100.00\n",
       "CM-NP       100.00\n",
       "CM-NS       100.00\n",
       "#             0.00\n",
       "CM-NT       100.00\n",
       "CM-PG       100.00\n",
       "CM-S        100.00\n",
       "CM-TI       100.00\n",
       "MGA         100.00\n",
       "#             0.00\n",
       "MGE         100.00\n",
       "MGN         100.00\n",
       "MGR         100.00\n",
       "#             0.00\n",
       "C-DL        100.00\n",
       "C-DML       100.00\n",
       "C-DMW       100.00\n",
       "C-DN        100.00\n",
       "C-DOOO      100.00\n",
       "#             0.00\n",
       "C-DW        100.00\n",
       "C-TL        100.00\n",
       "C-TML       100.00\n",
       "C-TMW       100.00\n",
       "C-TN        100.00\n",
       "#             0.00\n",
       "C-TOOO      100.00\n",
       "C-TW        100.00\n",
       "CD          100.00\n",
       "CT          100.00\n",
       "#             0.00\n",
       "B           100.00\n",
       "B.1         100.00\n",
       "B.2          40.25\n",
       "BT            3.75\n",
       "KO            4.75\n",
       "#             0.00\n",
       "MT            4.00\n",
       "RT          100.00\n",
       "RB            9.50\n",
       "S.1           0.50\n",
       "S.2           0.00\n",
       "#             0.00\n",
       "SGP           0.00\n",
       "SI            0.00\n",
       "T             0.00\n",
       "T-P           0.00\n",
       "T-P.1         0.00\n",
       "#             0.00\n",
       "R.1         100.00\n",
       "R-5P        100.00\n",
       "R-BU        100.00\n",
       "R-BW        100.00\n",
       "R-D         100.00\n",
       "#             0.00\n",
       "R-D         100.00\n",
       "R-FK        100.00\n",
       "R-FA        100.00\n",
       "R-H         100.00\n",
       "R-H.1       100.00\n",
       "#             0.00\n",
       "R-KI        100.00\n",
       "R-N         100.00\n",
       "R-PI        100.00\n",
       "R-PMC       100.00\n",
       "R-PS        100.00\n",
       "#             0.00\n",
       "R-P         100.00\n",
       "R-S         100.00\n",
       "R-S.1       100.00\n",
       "#             0.00\n",
       "CKO           9.25\n",
       "CM            0.00\n",
       "CP            0.00\n",
       "CP-P          0.00\n",
       "CP-P.1        0.00\n",
       "#             0.00\n",
       "C           100.00\n",
       "G             0.00\n",
       "GFH           0.00\n",
       "GBG           0.00\n",
       "GBG-P         0.00\n",
       "#             0.00\n",
       "GBG-P         0.00\n",
       "HR            0.00\n",
       "HBG           0.00\n",
       "HBG-P         0.00\n",
       "HBG-P.1       0.00\n",
       "#             0.00\n",
       "LBG           0.00\n",
       "LBG-P         0.00\n",
       "LBG-P.1       0.00\n",
       "RHBG        100.00\n",
       "UM            0.00\n",
       "#             0.00\n",
       "UP            0.00\n",
       "#             0.00\n",
       "FAT           0.00\n",
       "PAT           0.00\n",
       "PIPC        100.00\n",
       "PIPC.1      100.00\n",
       "PIPC.2      100.00\n",
       "#             0.00\n",
       "PIT           0.00\n",
       "PPA         100.00\n",
       "PPP         100.00\n",
       "PPP.1       100.00\n",
       "SAT           0.00\n",
       "#             0.00\n",
       "SIPC        100.00\n",
       "SIPC.1      100.00\n",
       "SIPC.2      100.00\n",
       "SIT           0.00\n",
       "SPC         100.00\n",
       "#             0.00\n",
       "SPF         100.00\n",
       "SPP         100.00\n",
       "TF          100.00\n",
       "TF-BiRB     100.00\n",
       "TF-G        100.00\n",
       "#             0.00\n",
       "TF-P        100.00\n",
       "#             0.00\n",
       "DP            0.00\n",
       "RP            0.00\n",
       "#             0.00\n",
       "ICT         100.00\n",
       "IOB         100.00\n",
       "IOC         100.00\n",
       "IOI         100.00\n",
       "ION         100.00\n",
       "#             0.00\n",
       "IOOoG       100.00\n",
       "IOT         100.00\n",
       "OSS         100.00\n",
       "OSS.1         0.00\n",
       "PL            0.00\n",
       "#             0.00\n",
       "SO          100.00\n",
       "SO.1        100.00\n",
       "TOGPS         0.00\n",
       "#             0.00\n",
       "B             0.00\n",
       "BA            0.75\n",
       "EA          100.00\n",
       "EG          100.00\n",
       "ES          100.00\n",
       "#             0.00\n",
       "ES-SD         0.00\n",
       "G             0.25\n",
       "GA            1.00\n",
       "KSP          42.00\n",
       "MS            1.75\n",
       "#             0.00\n",
       "P             0.00\n",
       "RB           13.00\n",
       "SA            0.00\n",
       "SI            0.00\n",
       "SL            0.00\n",
       "#             0.00\n",
       "SI            0.00\n",
       "SS            0.00\n",
       "SAG           0.00\n",
       "SSP           0.25\n",
       "TSP           0.00\n",
       "#             0.00\n",
       "BU            0.00\n",
       "BUC           0.00\n",
       "BUFP          0.00\n",
       "BUH           0.00\n",
       "BUHS          9.25\n",
       "#             0.00\n",
       "BUHTA         4.50\n",
       "BUSL          6.75\n",
       "BUV         100.00\n",
       "CB            0.00\n",
       "CBA         100.00\n",
       "#             0.00\n",
       "CBC           0.00\n",
       "CBFP          0.00\n",
       "CBH           0.00\n",
       "CBHS         16.50\n",
       "CBHTA         8.50\n",
       "#             0.00\n",
       "CBM         100.00\n",
       "CBSL          9.00\n",
       "CBV         100.00\n",
       "C             0.00\n",
       "FP            0.00\n",
       "#             0.00\n",
       "HOS           0.50\n",
       "HOTA          0.00\n",
       "H             0.00\n",
       "RC          100.00\n",
       "SS            0.00\n",
       "#             0.00\n",
       "S.1           0.00\n",
       "TI            0.00\n",
       "TIC           0.00\n",
       "TIFP          0.00\n",
       "TIH           0.00\n",
       "#             0.00\n",
       "TIHS         11.00\n",
       "TIHTA         6.75\n",
       "TISL          7.25\n",
       "TIV         100.00\n",
       "#             0.00\n",
       "BUCL          0.00\n",
       "BUHS          9.25\n",
       "CBACD       100.00\n",
       "CBA         100.00\n",
       "CBACD.1     100.00\n",
       "#             0.00\n",
       "CBB          36.25\n",
       "CBCL          0.00\n",
       "CBG          30.50\n",
       "CBHS         16.50\n",
       "CBRB         80.25\n",
       "#             0.00\n",
       "EC            0.00\n",
       "HOS           0.50\n",
       "H           100.00\n",
       "I50L-FBU      0.50\n",
       "I50L-FCB      0.25\n",
       "#             0.00\n",
       "I50L-FTI      1.50\n",
       "SE-H          0.00\n",
       "SE-K          0.00\n",
       "TMU         100.00\n",
       "TICL          0.00\n",
       "#             0.00\n",
       "TIHS         11.00\n",
       "TiP-D         0.00\n",
       "TiP-D.1       0.00\n",
       "TiP-OS        0.00\n",
       "TiP-S         0.00\n",
       "#             0.00\n",
       "TIZS          0.00\n",
       "#             0.00\n",
       "DpT %         0.00\n",
       "I             0.00\n",
       "T             0.00\n",
       "#             0.00\n",
       "I50L-FPG      0.00\n",
       "IBL           0.00\n",
       "IGL           0.50\n",
       "TFG         100.00\n",
       "TG          100.00\n",
       "#             0.00\n",
       "TUG         100.00\n",
       "#             0.00\n",
       "D50R          0.00\n",
       "I50           0.00\n",
       "I50-K       100.00\n",
       "I50-KM      100.00\n",
       "I50-KR      100.00\n",
       "#             0.00\n",
       "R50           0.00\n",
       "R50ROCP       0.25\n",
       "R50ROUP       7.25\n",
       "R50RO        93.75\n",
       "R50RR         7.00\n",
       "#             0.00\n",
       "R50RS         2.75\n",
       "R50RTCP       0.00\n",
       "R50RTUP       0.00\n",
       "SGPI %        0.25\n",
       "SSPI %        0.00\n",
       "#             0.00\n",
       "CL            0.00\n",
       "I50-F        38.25\n",
       "I50-FR       69.50\n",
       "I50-I         0.00\n",
       "I50-ID        0.25\n",
       "#             0.00\n",
       "I50-IDR       5.00\n",
       "I50-IR        1.00\n",
       "I50-KB      100.00\n",
       "I50-KGT     100.00\n",
       "I50-L         0.00\n",
       "#             0.00\n",
       "I50-MS        0.00\n",
       "I50-MSD       0.00\n",
       "I50-MSDR      2.25\n",
       "I50-MSR       0.50\n",
       "I50-R         0.00\n",
       "#             0.00\n",
       "I50-RD        0.00\n",
       "I50-RDR       0.75\n",
       "I50-RR        0.50\n",
       "I50-TD        0.25\n",
       "I50-TDR       3.00\n",
       "#             0.00\n",
       "I50-TR        0.75\n",
       "I50T        100.00\n",
       "I50T-C      100.00\n",
       "I50T-D      100.00\n",
       "I50T-PG     100.00\n",
       "#             0.00\n",
       "I50T-PR     100.00\n",
       "I50T-PS     100.00\n",
       "I50T-TG     100.00\n",
       "I50T-TR     100.00\n",
       "I50T-TS     100.00\n",
       "#             0.00\n",
       "I50T          0.00\n",
       "dtype: float64"
      ]
     },
     "execution_count": 80,
     "metadata": {},
     "output_type": "execute_result"
    }
   ],
   "source": [
    "# Count zeroes\n",
    "\n",
    "def count_zeros_percentage(df):\n",
    "    zero_counts = df.apply(lambda col: (col == 0).sum())\n",
    "    total_rows = len(df)\n",
    "    zero_percentage = (zero_counts / total_rows) * 100\n",
    "    return zero_percentage\n",
    "\n",
    "count_zeros_percentage(final_df)"
   ]
  }
 ],
 "metadata": {
  "kernelspec": {
   "display_name": "Python 3 (ipykernel)",
   "language": "python",
   "name": "python3"
  },
  "language_info": {
   "codemirror_mode": {
    "name": "ipython",
    "version": 3
   },
   "file_extension": ".py",
   "mimetype": "text/x-python",
   "name": "python",
   "nbconvert_exporter": "python",
   "pygments_lexer": "ipython3",
   "version": "3.12.4"
  }
 },
 "nbformat": 4,
 "nbformat_minor": 5
}
